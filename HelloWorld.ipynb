{
 "cells": [
  {
   "cell_type": "code",
   "execution_count": 1,
   "metadata": {
    "scrolled": true
   },
   "outputs": [
    {
     "name": "stdout",
     "output_type": "stream",
     "text": [
      "Say Hello to Python!\n",
      "Second Line\n"
     ]
    }
   ],
   "source": [
    "print(\"Say Hello to Python!\")\n",
    "print(\"Second Line\")"
   ]
  },
  {
   "cell_type": "code",
   "execution_count": 2,
   "metadata": {},
   "outputs": [
    {
     "name": "stdout",
     "output_type": "stream",
     "text": [
      "0: A very long sentense           which is crossing multiple lines.\n",
      "continue after a line break plus a few words!\n",
      "1: A very long sentense           which is crossing multiple lines.\n",
      "continue after a line break plus a few words!\n",
      "2: A very long sentense           which is crossing multiple lines.\n",
      "continue after a line break plus a few words!\n",
      "3: A very long sentense           which is crossing multiple lines.\n",
      "continue after a line break plus a few words!\n",
      "4: A very long sentense           which is crossing multiple lines.\n",
      "continue after a line break plus a few words!\n",
      "5: A very long sentense           which is crossing multiple lines.\n",
      "continue after a line break plus a few words!\n",
      "6: A very long sentense           which is crossing multiple lines.\n",
      "continue after a line break plus a few words!\n",
      "7: A very long sentense           which is crossing multiple lines.\n",
      "continue after a line break plus a few words!\n",
      "8: A very long sentense           which is crossing multiple lines.\n",
      "continue after a line break plus a few words!\n",
      "9: A very long sentense           which is crossing multiple lines.\n",
      "continue after a line break plus a few words!\n"
     ]
    }
   ],
   "source": [
    "for i in range(10):\n",
    "    print(f\"{i}: A very long sentense \\\n",
    "          which is crossing multiple lines.\\n\" +\n",
    "         \"continue after a line break\" + \" plus a few words!\")"
   ]
  },
  {
   "cell_type": "code",
   "execution_count": 3,
   "metadata": {},
   "outputs": [
    {
     "name": "stdout",
     "output_type": "stream",
     "text": [
      "Hello World\n",
      "Hello World 100 times!\n"
     ]
    }
   ],
   "source": [
    "s=\"Hello\"\n",
    "y=\"World\"\n",
    "n=100\n",
    "print(f\"{s} {y}\")\n",
    "print(\"%s %s %d times!\" % (s,y,n))"
   ]
  },
  {
   "cell_type": "code",
   "execution_count": 4,
   "metadata": {},
   "outputs": [
    {
     "name": "stdout",
     "output_type": "stream",
     "text": [
      "Hello\n"
     ]
    }
   ],
   "source": [
    "print(s)"
   ]
  },
  {
   "cell_type": "code",
   "execution_count": null,
   "metadata": {},
   "outputs": [],
   "source": []
  }
 ],
 "metadata": {
  "kernelspec": {
   "display_name": "Python 3",
   "language": "python",
   "name": "python3"
  },
  "language_info": {
   "codemirror_mode": {
    "name": "ipython",
    "version": 3
   },
   "file_extension": ".py",
   "mimetype": "text/x-python",
   "name": "python",
   "nbconvert_exporter": "python",
   "pygments_lexer": "ipython3",
   "version": "3.7.3"
  }
 },
 "nbformat": 4,
 "nbformat_minor": 2
}
